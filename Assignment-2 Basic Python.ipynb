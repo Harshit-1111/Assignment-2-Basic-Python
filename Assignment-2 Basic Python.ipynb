{
 "cells": [
  {
   "cell_type": "code",
   "execution_count": null,
   "id": "d33bef9e",
   "metadata": {},
   "outputs": [],
   "source": [
    "#Q1  What are the two values of the Boolean data type? How do you write them?\n",
    "Ans  The two values of the Boolean datatype are True and False,\n",
    "     We write them using capital T and F, with the rest of the word in lowercase"
   ]
  },
  {
   "cell_type": "code",
   "execution_count": null,
   "id": "8f1c6eba",
   "metadata": {},
   "outputs": [],
   "source": [
    "#Q2  What are the three different types of Boolean operators?\n",
    "Ans  The three different types of Boolean operators are  AND, OR, and NOT."
   ]
  },
  {
   "cell_type": "code",
   "execution_count": null,
   "id": "22182ffc",
   "metadata": {},
   "outputs": [],
   "source": [
    "#Q3  Make a list of each Boolean operator&#39;s truth tables (i.e. every possible combination of Boolean\n",
    "#     values for the operator and what it evaluate ).\n",
    "\n",
    "Ans           #AND Operator       NOT Operator\n",
    "                A  B  O              A   A'\n",
    "                0  0  0              0   1\n",
    "                0  1  0              1   0\n",
    "                1  0  0\n",
    "                1  1  1\n",
    "              #OR Operator\n",
    "                A  B  O\n",
    "                0  0  0\n",
    "                0  1  1\n",
    "                1  0  1\n",
    "                1  1  1"
   ]
  },
  {
   "cell_type": "code",
   "execution_count": 1,
   "id": "fa260a08",
   "metadata": {},
   "outputs": [
    {
     "data": {
      "text/plain": [
       "True"
      ]
     },
     "execution_count": 1,
     "metadata": {},
     "output_type": "execute_result"
    }
   ],
   "source": [
    "#Q4 What are the values of the following expressions?\n",
    "ANS \n",
    "        (5 > 4) and (3 == 5) - FALSE\n",
    "        not (5 > 4) - FALSE\n",
    "        (5 > 4) or (3 == 5) - TRUE\n",
    "        not ((5 > 4) or (3 == 5)) - FALSE\n",
    "        (True and True) and (True == False) - FALSE\n",
    "        (not False) or (not True) -  TRUE"
   ]
  },
  {
   "cell_type": "code",
   "execution_count": 2,
   "id": "743c6069",
   "metadata": {},
   "outputs": [
    {
     "data": {
      "text/plain": [
       "False"
      ]
     },
     "execution_count": 2,
     "metadata": {},
     "output_type": "execute_result"
    }
   ],
   "source": [
    "(5 > 4) and (3 == 5)"
   ]
  },
  {
   "cell_type": "code",
   "execution_count": 3,
   "id": "a6360b8d",
   "metadata": {},
   "outputs": [
    {
     "data": {
      "text/plain": [
       "False"
      ]
     },
     "execution_count": 3,
     "metadata": {},
     "output_type": "execute_result"
    }
   ],
   "source": [
    "not (5 > 4)"
   ]
  },
  {
   "cell_type": "code",
   "execution_count": 4,
   "id": "a24d4a8a",
   "metadata": {},
   "outputs": [
    {
     "data": {
      "text/plain": [
       "True"
      ]
     },
     "execution_count": 4,
     "metadata": {},
     "output_type": "execute_result"
    }
   ],
   "source": [
    "(5 > 4) or (3 == 5)"
   ]
  },
  {
   "cell_type": "code",
   "execution_count": 5,
   "id": "1319930f",
   "metadata": {},
   "outputs": [
    {
     "data": {
      "text/plain": [
       "False"
      ]
     },
     "execution_count": 5,
     "metadata": {},
     "output_type": "execute_result"
    }
   ],
   "source": [
    "not ((5 > 4) or (3 == 5))"
   ]
  },
  {
   "cell_type": "code",
   "execution_count": 6,
   "id": "c7606a9f",
   "metadata": {},
   "outputs": [
    {
     "data": {
      "text/plain": [
       "False"
      ]
     },
     "execution_count": 6,
     "metadata": {},
     "output_type": "execute_result"
    }
   ],
   "source": [
    "(True and True) and (True == False)"
   ]
  },
  {
   "cell_type": "code",
   "execution_count": 7,
   "id": "18372c8c",
   "metadata": {},
   "outputs": [
    {
     "data": {
      "text/plain": [
       "True"
      ]
     },
     "execution_count": 7,
     "metadata": {},
     "output_type": "execute_result"
    }
   ],
   "source": [
    "(not False) or (not True)"
   ]
  },
  {
   "cell_type": "code",
   "execution_count": null,
   "id": "8129f835",
   "metadata": {},
   "outputs": [],
   "source": [
    "#Q5 What are the six comparison operators?\n",
    "Ans The six comparison operators are as follows\n",
    "    (>)- Greater than operator\n",
    "    (<)- Less than operator\n",
    "    (<=)- Less than equal to operator\n",
    "    (>=)- Greater than equal to operator\n",
    "    (==)- equal to operator\n",
    "    (!=)- Not equal to operator"
   ]
  },
  {
   "cell_type": "code",
   "execution_count": null,
   "id": "74d0908b",
   "metadata": {},
   "outputs": [],
   "source": [
    "#Q6 How do you tell the difference between the equal to and assignment operators?Describe condition and when you would use one.\n",
    "\n",
    "Ans    \"=\" is an assignment operator\n",
    "       It is used for assigning the value to a variable.\n",
    "        Example- a=10\n",
    "        Constant term cannot be placed on left hand side.\n",
    "        Example- 1=x; is invalid.\n",
    "        \n",
    "        The ‘==’ operator checks whether the two given operands are equal or not.\n",
    "        If so, it returns true. Otherwise it returns false.\n",
    "        It is a relational or comparison operator.\n",
    "        Constant term can be placed in the left hand side.\n",
    "        Example: 1==1 is valid and returns 1."
   ]
  },
  {
   "cell_type": "code",
   "execution_count": null,
   "id": "789fc4e6",
   "metadata": {},
   "outputs": [],
   "source": [
    "#Q7  Identify the three blocks in this code:\n",
    "spam = 0\n",
    "if spam == 10:\n",
    "print('eggs')\n",
    "if spam > 5:\n",
    "print(&#39;bacon)\n",
    "else:\n",
    "print('ham')\n",
    "print('spam')\n",
    "print('spam')\n",
    "      \n",
    "Ans-  The three blocks are everything inside the if statement and the lines print('bacon') and print('ham').\n",
    "\n",
    "print('eggs')\n",
    "if spam > 5:\n",
    "    print('bacon')\n",
    "else:\n",
    "    print('ham')\n",
    "print('spam')      "
   ]
  },
  {
   "cell_type": "code",
   "execution_count": 15,
   "id": "81c12d4c",
   "metadata": {},
   "outputs": [
    {
     "name": "stdout",
     "output_type": "stream",
     "text": [
      "4\n",
      "Greetings\n"
     ]
    }
   ],
   "source": [
    "#Q.8 Write code that prints Hello if 1 is stored in spam, prints Howdy if 2 is stored in spam, and prints \n",
    "#     Greetings! if anything else is stored in spam\n",
    "\n",
    "#Answer\n",
    "spam = int(input())\n",
    "if spam==1 :\n",
    "    print(\"Hello\")\n",
    "elif spam==2 :\n",
    "    print(\"Howdy\")\n",
    "else:\n",
    "    print(\"Greetings\")"
   ]
  },
  {
   "cell_type": "code",
   "execution_count": null,
   "id": "ef699a12",
   "metadata": {},
   "outputs": [],
   "source": [
    "#Q9 If your programme is stuck in an endless loop, what keys you’ll press?\n",
    "Ans Control+C"
   ]
  },
  {
   "cell_type": "code",
   "execution_count": null,
   "id": "b27bd087",
   "metadata": {},
   "outputs": [],
   "source": [
    "#Q10 How can you tell the difference between break and continue?\n",
    "Ans When break comes, it terminates the current loop and passes the control to next loop or main body of the code\n",
    "    And when continue comes it skips the current iteration and executes the very next iteration in the loop\n"
   ]
  },
  {
   "cell_type": "code",
   "execution_count": 16,
   "id": "ab03063d",
   "metadata": {},
   "outputs": [
    {
     "data": {
      "text/plain": [
       "range(0, 10)"
      ]
     },
     "execution_count": 16,
     "metadata": {},
     "output_type": "execute_result"
    }
   ],
   "source": [
    "#Q11 In a for loop, what is the difference between range(10), range(0, 10), and range(0, 10, 1)?\n",
    "Ans- range(10) will give you the sequence of numbers between 0 to 9 as the upper limit we dont count\n",
    "     range(0,10) will give the same result as range(10) as the starting index is bydeafult 0 in python\n",
    "     range(0,10,1) will also give the same output, here 1 is the step size."
   ]
  },
  {
   "cell_type": "code",
   "execution_count": 19,
   "id": "65355964",
   "metadata": {},
   "outputs": [
    {
     "name": "stdout",
     "output_type": "stream",
     "text": [
      "0\n",
      "1\n",
      "2\n",
      "3\n",
      "4\n",
      "5\n",
      "6\n",
      "7\n",
      "8\n",
      "9\n"
     ]
    }
   ],
   "source": [
    "for i in range(10) :\n",
    "    print(i)"
   ]
  },
  {
   "cell_type": "code",
   "execution_count": 20,
   "id": "a9542f33",
   "metadata": {},
   "outputs": [
    {
     "name": "stdout",
     "output_type": "stream",
     "text": [
      "0\n",
      "1\n",
      "2\n",
      "3\n",
      "4\n",
      "5\n",
      "6\n",
      "7\n",
      "8\n",
      "9\n"
     ]
    }
   ],
   "source": [
    "for i in range(0,10) :\n",
    "    print(i)"
   ]
  },
  {
   "cell_type": "code",
   "execution_count": 22,
   "id": "468e8b6b",
   "metadata": {},
   "outputs": [
    {
     "name": "stdout",
     "output_type": "stream",
     "text": [
      "0\n",
      "1\n",
      "2\n",
      "3\n",
      "4\n",
      "5\n",
      "6\n",
      "7\n",
      "8\n",
      "9\n"
     ]
    }
   ],
   "source": [
    "for i in range(0,10,1) :\n",
    "    print(i)"
   ]
  },
  {
   "cell_type": "code",
   "execution_count": 23,
   "id": "9b16f350",
   "metadata": {},
   "outputs": [
    {
     "name": "stdout",
     "output_type": "stream",
     "text": [
      "1\n",
      "2\n",
      "3\n",
      "4\n",
      "5\n",
      "6\n",
      "7\n",
      "8\n",
      "9\n",
      "10\n"
     ]
    }
   ],
   "source": [
    "#Q12 Write a short program that prints the numbers 1 to 10 using a for loop. Then write an equivalent\n",
    "#     program that prints the numbers 1 to 10 using a while loop.\n",
    "\n",
    "for i in range(1,11) :\n",
    "    print(i)"
   ]
  },
  {
   "cell_type": "code",
   "execution_count": 31,
   "id": "9bf820ba",
   "metadata": {},
   "outputs": [
    {
     "name": "stdout",
     "output_type": "stream",
     "text": [
      "1\n",
      "2\n",
      "3\n",
      "4\n",
      "5\n",
      "6\n",
      "7\n",
      "8\n",
      "9\n",
      "10\n"
     ]
    }
   ],
   "source": [
    "n=1\n",
    "while n<=10 :\n",
    "    print(n)\n",
    "    n=n+1"
   ]
  },
  {
   "cell_type": "code",
   "execution_count": null,
   "id": "85c0e924",
   "metadata": {},
   "outputs": [],
   "source": [
    "#Q13 13. If you had a function named bacon() inside a module named spam, how would you call it after importing spam?\n",
    "Ans       spam.bacon()"
   ]
  }
 ],
 "metadata": {
  "kernelspec": {
   "display_name": "Python 3 (ipykernel)",
   "language": "python",
   "name": "python3"
  },
  "language_info": {
   "codemirror_mode": {
    "name": "ipython",
    "version": 3
   },
   "file_extension": ".py",
   "mimetype": "text/x-python",
   "name": "python",
   "nbconvert_exporter": "python",
   "pygments_lexer": "ipython3",
   "version": "3.9.7"
  }
 },
 "nbformat": 4,
 "nbformat_minor": 5
}
